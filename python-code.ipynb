{
 "cells": [
  {
   "cell_type": "code",
   "execution_count": 2,
   "id": "7b54e5b7",
   "metadata": {},
   "outputs": [
    {
     "name": "stdout",
     "output_type": "stream",
     "text": [
      "hello world\n"
     ]
    }
   ],
   "source": [
    "print ('hello world')"
   ]
  },
  {
   "cell_type": "code",
   "execution_count": 4,
   "id": "339262c8",
   "metadata": {},
   "outputs": [
    {
     "name": "stdout",
     "output_type": "stream",
     "text": [
      "Born to solve problem\n"
     ]
    }
   ],
   "source": [
    "print ('Born to solve problem')"
   ]
  },
  {
   "cell_type": "code",
   "execution_count": 5,
   "id": "07d2d928",
   "metadata": {},
   "outputs": [
    {
     "name": "stdout",
     "output_type": "stream",
     "text": [
      "CGPA = 4.90\n"
     ]
    }
   ],
   "source": [
    "print ('CGPA = 4.90')"
   ]
  },
  {
   "cell_type": "code",
   "execution_count": 6,
   "id": "ddae8127",
   "metadata": {},
   "outputs": [
    {
     "name": "stdout",
     "output_type": "stream",
     "text": [
      "It will surely make sense at the end\n"
     ]
    }
   ],
   "source": [
    "print ('It will surely make sense at the end')"
   ]
  },
  {
   "cell_type": "code",
   "execution_count": null,
   "id": "18bcfa14",
   "metadata": {},
   "outputs": [],
   "source": []
  }
 ],
 "metadata": {
  "kernelspec": {
   "display_name": "Python 3 (ipykernel)",
   "language": "python",
   "name": "python3"
  },
  "language_info": {
   "codemirror_mode": {
    "name": "ipython",
    "version": 3
   },
   "file_extension": ".py",
   "mimetype": "text/x-python",
   "name": "python",
   "nbconvert_exporter": "python",
   "pygments_lexer": "ipython3",
   "version": "3.11.5"
  }
 },
 "nbformat": 4,
 "nbformat_minor": 5
}
