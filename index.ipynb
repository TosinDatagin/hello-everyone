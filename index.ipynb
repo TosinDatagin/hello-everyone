{
 "cells": [
  {
   "cell_type": "code",
   "execution_count": 1,
   "id": "517ad421",
   "metadata": {},
   "outputs": [
    {
     "name": "stdout",
     "output_type": "stream",
     "text": [
      "Tosin!!! I declare over your life entirely that the glory of God will greatly be seen\n"
     ]
    }
   ],
   "source": [
    "print('Tosin!!! I declare over your life entirely that the glory of God will greatly be seen')"
   ]
  },
  {
   "cell_type": "code",
   "execution_count": 2,
   "id": "a04aafab",
   "metadata": {},
   "outputs": [
    {
     "name": "stdout",
     "output_type": "stream",
     "text": [
      "WELCOME\n"
     ]
    }
   ],
   "source": [
    "print('WELCOME')"
   ]
  },
  {
   "cell_type": "code",
   "execution_count": null,
   "id": "b2506a98",
   "metadata": {},
   "outputs": [],
   "source": []
  }
 ],
 "metadata": {
  "kernelspec": {
   "display_name": "Python 3 (ipykernel)",
   "language": "python",
   "name": "python3"
  },
  "language_info": {
   "codemirror_mode": {
    "name": "ipython",
    "version": 3
   },
   "file_extension": ".py",
   "mimetype": "text/x-python",
   "name": "python",
   "nbconvert_exporter": "python",
   "pygments_lexer": "ipython3",
   "version": "3.11.5"
  }
 },
 "nbformat": 4,
 "nbformat_minor": 5
}
